{
 "cells": [
  {
   "cell_type": "markdown",
   "id": "76296402-6135-4434-8049-23e824cfb189",
   "metadata": {},
   "source": [
    "# Data Science Tools and Ecosystem"
   ]
  },
  {
   "cell_type": "markdown",
   "id": "e5f211f0-6754-44fb-bb76-33e287c2b4ce",
   "metadata": {},
   "source": [
    "In this notebook, Data Science Tools and Ecosystem are summarized."
   ]
  },
  {
   "cell_type": "markdown",
   "id": "9b983870-8e44-44c7-a907-bae0a416ace4",
   "metadata": {},
   "source": [
    "**Objectives:**\n",
    "\n",
    "- popular languages for Data Science- SQL,R,PYTHON\n",
    "- commonly used libraries for Data Science- pandas, numpy, scikit-learn\n",
    "- Data Science tools- jupyterlab, rstudio, apache zeppelin"
   ]
  },
  {
   "cell_type": "markdown",
   "id": "b5cf4fd3-3cc2-4f7c-9aa2-f73e5332b2e9",
   "metadata": {},
   "source": [
    "Some of the popular languages that Data Scientists use are:\r\n",
    "1\n",
    "1. Python\r\n",
    "2. R\r\n",
    "3.QL\r\n",
    "\n"
   ]
  },
  {
   "cell_type": "markdown",
   "id": "55777698-3689-4e8b-b574-9a9b9c0ae59b",
   "metadata": {},
   "source": [
    "Some of the commonly used libraries used by Data Scientists include:\r\n",
    "\r\n",
    "1. Pandas\r\n",
    "2. NumPy\r\n",
    "3. Scikit-learn\r\n"
   ]
  },
  {
   "cell_type": "markdown",
   "id": "4eb8363b-4328-4e5a-986c-4908389cb27f",
   "metadata": {},
   "source": [
    "| Data Science Tools       |\r\n",
    "|--------------------------|\r\n",
    "| JupyterLab               |\r\n",
    "| RStudio                  |\r\n",
    "| Apache Zeppelin           |\r\n"
   ]
  },
  {
   "cell_type": "code",
   "execution_count": 27,
   "id": "a22b9c1b-b457-4627-b29a-ea6dc07c4947",
   "metadata": {},
   "outputs": [
    {
     "data": {
      "text/plain": [
       "3.3333333333333335"
      ]
     },
     "execution_count": 27,
     "metadata": {},
     "output_type": "execute_result"
    }
   ],
   "source": [
    "# This will convert 200 minutes to hours by dividing by 60\n",
    "200 / 60\n"
   ]
  },
  {
   "cell_type": "markdown",
   "id": "c4fff065-b29e-43f7-878b-4ddf8d2bbdde",
   "metadata": {},
   "source": [
    "## Author\n",
    "Mandeep Singh\r\n"
   ]
  }
 ],
 "metadata": {
  "kernelspec": {
   "display_name": "Python 3 (ipykernel)",
   "language": "python",
   "name": "python3"
  },
  "language_info": {
   "codemirror_mode": {
    "name": "ipython",
    "version": 3
   },
   "file_extension": ".py",
   "mimetype": "text/x-python",
   "name": "python",
   "nbconvert_exporter": "python",
   "pygments_lexer": "ipython3",
   "version": "3.12.4"
  }
 },
 "nbformat": 4,
 "nbformat_minor": 5
}
